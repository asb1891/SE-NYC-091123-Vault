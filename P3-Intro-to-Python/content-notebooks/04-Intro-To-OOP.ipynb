{
 "cells": [
  {
   "cell_type": "markdown",
   "id": "2eaea13d-5fc4-4642-8ef0-da061d4f6d3a",
   "metadata": {},
   "source": [
    "---\n",
    "---\n",
    "---"
   ]
  },
  {
   "cell_type": "markdown",
   "id": "93e001ab-cae5-4752-bb98-bf62ad88ea2c",
   "metadata": {},
   "source": [
    "# Introduction to Object-Oriented Programming"
   ]
  },
  {
   "cell_type": "markdown",
   "id": "091f53e4-f23c-4b62-a8b9-8b46dfcf7a7e",
   "metadata": {},
   "source": [
    "## Introducing Objects"
   ]
  },
  {
   "cell_type": "markdown",
   "id": "1ae121c2-eb27-491e-afdf-be525522f877",
   "metadata": {},
   "source": [
    "TBD."
   ]
  },
  {
   "cell_type": "markdown",
   "id": "749e6c10-c224-4b54-b694-50c58d4e8584",
   "metadata": {},
   "source": [
    "## Classes and Instances"
   ]
  },
  {
   "cell_type": "code",
   "execution_count": 9,
   "id": "6dff4ee6-054f-417d-b65b-5bfbbb392ad3",
   "metadata": {},
   "outputs": [],
   "source": [
    "class BakedGood: \n",
    "    pass"
   ]
  },
  {
   "cell_type": "code",
   "execution_count": 10,
   "id": "a772dff9-e341-4e1f-a0d8-c12671428799",
   "metadata": {},
   "outputs": [],
   "source": [
    "sweet_roll = BakedGood()\n",
    "cookie = BakedGood()\n",
    "cake = BakedGood()"
   ]
  },
  {
   "cell_type": "markdown",
   "id": "64db1849-5196-4978-b7f1-939deb88327f",
   "metadata": {},
   "source": [
    "## Being More `self` Aware"
   ]
  },
  {
   "cell_type": "markdown",
   "id": "a1d71315-46e7-4b56-a4bc-9ab392bd7b99",
   "metadata": {},
   "source": [
    "### `__init__()`, the Constructor"
   ]
  },
  {
   "cell_type": "code",
   "execution_count": 11,
   "id": "e4f69c34-e4b0-4622-a9d7-fdf1eda363ee",
   "metadata": {},
   "outputs": [],
   "source": [
    "class BakedGood:\n",
    "    def __init__(self):\n",
    "        pass"
   ]
  },
  {
   "cell_type": "markdown",
   "id": "0aec2b00-5f98-40e7-9ef3-33f19908860f",
   "metadata": {},
   "source": [
    "### Instance Attributes"
   ]
  },
  {
   "cell_type": "code",
   "execution_count": 12,
   "id": "e58aa56c-02af-4f91-8419-5e5595082804",
   "metadata": {},
   "outputs": [],
   "source": [
    "class BakedGood:\n",
    "    def __init__(self, has_chocolate, servings):\n",
    "        self.has_chocolate = True\n",
    "        self.servings = 8"
   ]
  },
  {
   "cell_type": "markdown",
   "id": "244892f3-ff3b-41d1-a731-e92b87bf7d85",
   "metadata": {},
   "source": [
    "## Defining Functionality with Methods"
   ]
  },
  {
   "cell_type": "markdown",
   "id": "d4d92d86-4676-4390-aa61-7c4b69bb3ce2",
   "metadata": {},
   "source": [
    "### Instance Methods"
   ]
  },
  {
   "cell_type": "code",
   "execution_count": 13,
   "id": "7373db38-dd29-4887-a703-b351234d5738",
   "metadata": {},
   "outputs": [],
   "source": [
    "class BakedGood:\n",
    "    def __init__(self, has_chocolate, servings):\n",
    "        self.has_chocolate = True\n",
    "        self.servings = 8\n",
    "\n",
    "    def get_ingredients(self, ingredient_list: list):\n",
    "        pass\n",
    "\n",
    "    def preheat_oven(self, temperature: int = 350):\n",
    "        pass"
   ]
  },
  {
   "cell_type": "markdown",
   "id": "9408ec5a-faa3-43c9-b7e2-11552cedc959",
   "metadata": {},
   "source": [
    "## Object Interactivity and Management"
   ]
  },
  {
   "cell_type": "markdown",
   "id": "108fa360-18e3-4e64-9dbd-ea5c5a6d8cd6",
   "metadata": {},
   "source": [
    "### Scoping and Handling Multiple Objects"
   ]
  },
  {
   "cell_type": "code",
   "execution_count": null,
   "id": "7936242f-3ce4-410d-9ce6-b5417bdf8b82",
   "metadata": {},
   "outputs": [],
   "source": [
    "class Ingredient:\n",
    "    def __init__(self):\n",
    "        pass"
   ]
  },
  {
   "cell_type": "code",
   "execution_count": null,
   "id": "bbde7527-a0bb-417f-b1a4-e5d2759b6f46",
   "metadata": {},
   "outputs": [],
   "source": [
    "class Supermarket:\n",
    "    def __init__(self):\n",
    "        pass\n",
    "\n",
    "    def check_item_price(self):\n",
    "        pass"
   ]
  },
  {
   "cell_type": "code",
   "execution_count": null,
   "id": "42007cab-ce2d-4d39-8358-64db4b7588c1",
   "metadata": {},
   "outputs": [],
   "source": [
    "class HomeCook:\n",
    "    def __init__(self): \n",
    "        pass\n",
    "        \n",
    "    def purchase_ingredients(self, ingredient_list: list, store):\n",
    "        pass\n",
    "\n",
    "    def preheat_oven(self, temperature: int = 350):\n",
    "        pass"
   ]
  },
  {
   "cell_type": "code",
   "execution_count": null,
   "id": "22a80d7e-8c51-471c-809a-4bfe1b43f2e5",
   "metadata": {},
   "outputs": [],
   "source": [
    "class Kitchen:\n",
    "    def __init__(self):\n",
    "        self.oven = True\n",
    "        self.microwave = True\n",
    "        self.knife = True\n",
    "        self.pantry = []"
   ]
  },
  {
   "cell_type": "code",
   "execution_count": null,
   "id": "1e785abc-9c45-4a94-8bc7-1b3817f9b87e",
   "metadata": {},
   "outputs": [],
   "source": [
    "class BakedGood:\n",
    "    def __init__(self, has_chocolate, has_nuts, servings):\n",
    "        self.has_chocolate = True\n",
    "        self.has_nuts = False\n",
    "        self.servings = 8"
   ]
  },
  {
   "cell_type": "markdown",
   "id": "234fa904-19e7-429a-89a8-b178e1f36d33",
   "metadata": {},
   "source": [
    "---\n",
    "---\n",
    "---"
   ]
  }
 ],
 "metadata": {
  "kernelspec": {
   "display_name": "Python 3 (ipykernel)",
   "language": "python",
   "name": "python3"
  },
  "language_info": {
   "codemirror_mode": {
    "name": "ipython",
    "version": 3
   },
   "file_extension": ".py",
   "mimetype": "text/x-python",
   "name": "python",
   "nbconvert_exporter": "python",
   "pygments_lexer": "ipython3",
   "version": "3.11.3"
  }
 },
 "nbformat": 4,
 "nbformat_minor": 5
}
