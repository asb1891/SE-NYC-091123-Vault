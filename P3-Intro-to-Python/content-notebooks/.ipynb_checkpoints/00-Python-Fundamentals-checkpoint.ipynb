{
 "cells": [
  {
   "cell_type": "markdown",
   "id": "486c8880-2e37-4c04-b9bd-7de2da2d3942",
   "metadata": {
    "editable": true,
    "slideshow": {
     "slide_type": ""
    },
    "tags": []
   },
   "source": [
    "---\n",
    "---\n",
    "---"
   ]
  },
  {
   "cell_type": "markdown",
   "id": "d903de1b-20b7-49fe-83ce-0c8852470697",
   "metadata": {},
   "source": [
    "# Python Fundamentals (for JavaScript Developers)"
   ]
  },
  {
   "cell_type": "markdown",
   "id": "4d8d1421-277c-492c-b882-52d21b40b25b",
   "metadata": {},
   "source": [
    "## Printing to Console"
   ]
  },
  {
   "cell_type": "markdown",
   "id": "9b974565-adf4-4220-9cc3-b7bb5900c0ec",
   "metadata": {},
   "source": [
    "```js\n",
    "console.log(\"Hello World!\")\n",
    "```"
   ]
  },
  {
   "cell_type": "code",
   "execution_count": 25,
   "id": "0fe1da24-5504-45af-875a-3f5ba2d994c5",
   "metadata": {},
   "outputs": [
    {
     "name": "stdout",
     "output_type": "stream",
     "text": [
      "Hi there!\n"
     ]
    }
   ],
   "source": [
    "print(\"Hi there!\")"
   ]
  },
  {
   "cell_type": "markdown",
   "id": "dd3aa34a-1982-43bb-a445-f720f6a6de20",
   "metadata": {},
   "source": [
    "## Comments"
   ]
  },
  {
   "cell_type": "markdown",
   "id": "c2c94b15-1cd6-43ed-a543-f2afbf4f11a6",
   "metadata": {},
   "source": [
    "```js\n",
    "// This is a line comment.\n",
    "\n",
    "/* \n",
    "This is a block comment.\n",
    "Multiple lines can be commented\n",
    "out with a block comment.\n",
    "*/\n",
    "\n",
    "```"
   ]
  },
  {
   "cell_type": "code",
   "execution_count": 1,
   "id": "0b7b9688-a363-4041-b596-4c06c2278713",
   "metadata": {},
   "outputs": [],
   "source": [
    "# This is a line comment."
   ]
  },
  {
   "cell_type": "code",
   "execution_count": 2,
   "id": "3fead073-caaa-4c46-b75d-f5c0587494e5",
   "metadata": {},
   "outputs": [
    {
     "data": {
      "text/plain": [
       "'\\nThis is a block comment.\\nMultiple lines can be commented\\nout with a block comment.\\n'"
      ]
     },
     "execution_count": 2,
     "metadata": {},
     "output_type": "execute_result"
    }
   ],
   "source": [
    "\"\"\"\n",
    "This is a block comment.\n",
    "Multiple lines can be commented\n",
    "out with a block comment.\n",
    "\"\"\""
   ]
  },
  {
   "cell_type": "markdown",
   "id": "e512e880-f0e3-4c77-b40f-be29b495d419",
   "metadata": {},
   "source": [
    "## Data Types"
   ]
  },
  {
   "cell_type": "markdown",
   "id": "58b95036-bc2d-4b66-b117-8cd262879092",
   "metadata": {},
   "source": [
    "|Javascript                     | Python\n",
    "|-------------------------------|-----------------------------|\n",
    "|`object`                       | `dictionary (dict)`         |\n",
    "|`string           `            | `str`                       |\n",
    "|`number`                       | `int` `float`               |\n",
    "|`array `                       | `list`                      |"
   ]
  },
  {
   "cell_type": "markdown",
   "id": "1ca71eef-4a80-4383-a0e2-d07be3839cce",
   "metadata": {},
   "source": [
    "### Converting Data Types"
   ]
  },
  {
   "cell_type": "markdown",
   "id": "71dc9aa2-75f5-42a8-817d-1b3b7b215f08",
   "metadata": {},
   "source": [
    "```js\n",
    "// Converting a number to a string.\n",
    "String(1)\n",
    "\n",
    "// Converting a string to a number.\n",
    "Number(\"1\")\n",
    "```"
   ]
  },
  {
   "cell_type": "code",
   "execution_count": 3,
   "id": "44b4c937-465f-4f39-b9ca-7b866240538a",
   "metadata": {},
   "outputs": [
    {
     "data": {
      "text/plain": [
       "'1'"
      ]
     },
     "execution_count": 3,
     "metadata": {},
     "output_type": "execute_result"
    }
   ],
   "source": [
    "# Converting an integer to a string.\n",
    "str(1)"
   ]
  },
  {
   "cell_type": "code",
   "execution_count": 4,
   "id": "b0dbff22-ff32-44aa-b008-51af18edd543",
   "metadata": {},
   "outputs": [
    {
     "data": {
      "text/plain": [
       "1"
      ]
     },
     "execution_count": 4,
     "metadata": {},
     "output_type": "execute_result"
    }
   ],
   "source": [
    "# Converting a string to an integer.\n",
    "int(\"1\")"
   ]
  },
  {
   "cell_type": "markdown",
   "id": "87953e8a-796c-436c-a9de-e176b9a7d163",
   "metadata": {},
   "source": [
    "## Declaring Variables"
   ]
  },
  {
   "cell_type": "markdown",
   "id": "beda8c5f-95b3-4956-99b5-e1c4966181b9",
   "metadata": {},
   "source": [
    "```js\n",
    "const numberJS = 1\n",
    "\n",
    "const arrayJS = [1,2,3,4]\n",
    "\n",
    "const objectJS = {id: 1, name:\"test\"}\n",
    "\n",
    "const setJS = new Set()\n",
    "```"
   ]
  },
  {
   "cell_type": "code",
   "execution_count": 7,
   "id": "9eed775a-93c6-43e3-bef1-8684b14699c9",
   "metadata": {},
   "outputs": [],
   "source": [
    "integer_py = 1\n",
    "float_py = 2.1\n",
    "\n",
    "list_py = [1, 2, 3, 4]\n",
    "\n",
    "dict_py = {\"id\": 1, \"name\": \"test\"}\n",
    "\n",
    "set_py = {5, 6, 7}"
   ]
  },
  {
   "cell_type": "code",
   "execution_count": 8,
   "id": "43876390-1f54-4561-8cf0-8e5f24beeb7f",
   "metadata": {},
   "outputs": [],
   "source": [
    "unset_integer_py = int()\n",
    "unset_float_py = float()\n",
    "\n",
    "unset_list_py = list()\n",
    "\n",
    "unset_dict_py = dict()\n",
    "\n",
    "unset_set_py = set()"
   ]
  },
  {
   "cell_type": "markdown",
   "id": "a5e0aeb3-ae5d-4c26-af7c-72477044bf0e",
   "metadata": {},
   "source": [
    "## Defining Functions"
   ]
  },
  {
   "cell_type": "markdown",
   "id": "9184c9f5-f3b4-4fa9-a631-022a4a794292",
   "metadata": {},
   "source": [
    "### Named Functions"
   ]
  },
  {
   "cell_type": "markdown",
   "id": "e8f6a8be-9655-44f6-9703-e8a9b5fc5c89",
   "metadata": {},
   "source": [
    "```js\n",
    "function add_two_numbers(x, y) {\n",
    "    return x + y\n",
    "}\n",
    "```"
   ]
  },
  {
   "cell_type": "code",
   "execution_count": 9,
   "id": "80a640f1-c565-4335-9126-0b66d0e763c9",
   "metadata": {},
   "outputs": [],
   "source": [
    "def add_two_numbers(x, y):\n",
    "    return x + y"
   ]
  },
  {
   "cell_type": "markdown",
   "id": "93e10038-83fe-4a8f-9a1c-43ab479abdf5",
   "metadata": {},
   "source": [
    "### Anonymous Functions"
   ]
  },
  {
   "cell_type": "markdown",
   "id": "8f217cf2-a052-434f-8936-9a5b03e1d2a8",
   "metadata": {},
   "source": [
    "```js\n",
    "(x, y) => x + y\n",
    "```"
   ]
  },
  {
   "cell_type": "code",
   "execution_count": 10,
   "id": "0d5f70f8-d113-43cd-bb46-3977fdfd2a1a",
   "metadata": {},
   "outputs": [
    {
     "data": {
      "text/plain": [
       "<function __main__.<lambda>(x, y)>"
      ]
     },
     "execution_count": 10,
     "metadata": {},
     "output_type": "execute_result"
    }
   ],
   "source": [
    "lambda x, y: x + y"
   ]
  },
  {
   "cell_type": "markdown",
   "id": "d65b974e-cbc8-4a2f-ba5b-96630b9a6b91",
   "metadata": {},
   "source": [
    "## Conditional Statements"
   ]
  },
  {
   "cell_type": "markdown",
   "id": "a501bb3c-8f33-48e3-a803-2b13ef839041",
   "metadata": {},
   "source": [
    "```js\n",
    "\n",
    "let mySum = 2 + 2;\n",
    "let myProduct = 2 * 2;\n",
    "\n",
    "if (mySum > 0 && mySum === myProduct) {\n",
    "    console.log(\"Whoa! Two 2s!\")\n",
    "} else if (mySum === myProduct) {\n",
    "    console.log(\"Cool! Two 0s!\")\n",
    "} else {\n",
    "    console.log(\"Other numbers are boring...\")\n",
    "} \n",
    "\n",
    "```"
   ]
  },
  {
   "cell_type": "code",
   "execution_count": 18,
   "id": "c360811c-0a31-4a85-9313-8a676ee73ce1",
   "metadata": {},
   "outputs": [
    {
     "name": "stdout",
     "output_type": "stream",
     "text": [
      "Whoa! Two 2s!\n"
     ]
    }
   ],
   "source": [
    "my_sum, my_product = 2 + 2, 2 * 2\n",
    "\n",
    "if my_sum > 0 and my_sum == my_product:\n",
    "    print(\"Whoa! Two 2s!\")\n",
    "elif my_sum == my_product:\n",
    "    print(\"Cool! Two 0s!\")\n",
    "else:\n",
    "    print(\"Other numbers are boring...\")"
   ]
  },
  {
   "cell_type": "markdown",
   "id": "ed347c40-4a1b-479e-8f2e-7d3c611e0532",
   "metadata": {},
   "source": [
    "## String Operations"
   ]
  },
  {
   "cell_type": "markdown",
   "id": "17091ca4-e0d4-4fa5-81de-2da1e218531c",
   "metadata": {},
   "source": [
    "### Building Strings"
   ]
  },
  {
   "cell_type": "markdown",
   "id": "0742e9c4-5e24-4d68-86b7-9f2d20f4105d",
   "metadata": {},
   "source": [
    "```js\n",
    "let value = 5\n",
    "\n",
    "let concatenatedStr = \"My variable is \" + value\n",
    "let interpolatedStr = `My variable is ${value}`\n",
    "```"
   ]
  },
  {
   "cell_type": "code",
   "execution_count": 28,
   "id": "88cd3169-1fc0-47f5-90f2-62a721e1b4c5",
   "metadata": {},
   "outputs": [],
   "source": [
    "value = 5\n",
    "\n",
    "concatenated_str = \"My variable is \" + str(value)\n",
    "interpolated_str = \"My variable is {}\".format(value)\n",
    "interpolated_f_str = f\"My variable is {value}\""
   ]
  },
  {
   "cell_type": "markdown",
   "id": "898b2d9d-2ab1-4fcb-9487-89f29c7ae495",
   "metadata": {},
   "source": [
    "### Deconstruct String into List"
   ]
  },
  {
   "cell_type": "markdown",
   "id": "644477c6-8276-4730-a953-7940169007e9",
   "metadata": {},
   "source": [
    "```js\n",
    "\"Split me on spaces\".split(' ')\n",
    "```"
   ]
  },
  {
   "cell_type": "code",
   "execution_count": 29,
   "id": "f9ea37c8-65d1-4600-bcb8-9b20930ad38c",
   "metadata": {},
   "outputs": [
    {
     "data": {
      "text/plain": [
       "['Split', 'me', 'on', 'spaces']"
      ]
     },
     "execution_count": 29,
     "metadata": {},
     "output_type": "execute_result"
    }
   ],
   "source": [
    "\"Split me on spaces\".split(' ')"
   ]
  },
  {
   "cell_type": "markdown",
   "id": "ba8a9bef-23b7-421d-92c8-82b928cb78fb",
   "metadata": {},
   "source": [
    "## Expressions for Iteration"
   ]
  },
  {
   "cell_type": "markdown",
   "id": "af9226ca-6562-4602-9117-4037d93522e9",
   "metadata": {},
   "source": [
    "### The `for` Loop"
   ]
  },
  {
   "cell_type": "markdown",
   "id": "151040e3-da36-4c5a-99a9-d8dc09948541",
   "metadata": {},
   "source": [
    "```js\n",
    "const numList = [1,2,3,4]\n",
    "let total = 0\n",
    "\n",
    "for (let num of numList) {\n",
    "    total = total + num\n",
    "}\n",
    "```"
   ]
  },
  {
   "cell_type": "code",
   "execution_count": 19,
   "id": "04f3086c-98bb-4c4a-aa80-e2138dc991ac",
   "metadata": {},
   "outputs": [],
   "source": [
    "list_of_nums, total = [1, 2, 3, 4], 0\n",
    "\n",
    "for number in list_of_nums:\n",
    "    total += number"
   ]
  },
  {
   "cell_type": "markdown",
   "id": "cdd6c8e2-45ed-4d7d-8983-1b6309bdaf28",
   "metadata": {},
   "source": [
    "### The `while` loop"
   ]
  },
  {
   "cell_type": "markdown",
   "id": "3843ee6c-646f-4d70-8297-0b6ae1cf579a",
   "metadata": {},
   "source": [
    "```js\n",
    "const numList = [1,2,3,4]\n",
    "let total = 0\n",
    "let i = 0\n",
    "\n",
    "while(i < numList.length){\n",
    "    total = total + numList[i]\n",
    "    i++\n",
    "}\n",
    "```"
   ]
  },
  {
   "cell_type": "code",
   "execution_count": 20,
   "id": "c2aac1bd-f4a8-4c98-9954-ec87fff81109",
   "metadata": {},
   "outputs": [],
   "source": [
    "list_of_nums, total, i = [1, 2, 3, 4], 0, 0\n",
    "\n",
    "while i < len(list_of_nums):\n",
    "    total += list_of_nums[i]\n",
    "    i += 1"
   ]
  },
  {
   "cell_type": "markdown",
   "id": "9906091d-8c63-4db6-815d-ecf10407d4a6",
   "metadata": {},
   "source": [
    "## Higher-Order Functions for Iteration"
   ]
  },
  {
   "cell_type": "markdown",
   "id": "54c3ae3f-98c4-4a8a-a965-c02323724411",
   "metadata": {},
   "source": [
    "### The `map()` function"
   ]
  },
  {
   "cell_type": "markdown",
   "id": "0dd23a5d-adb8-4811-9a52-b91947027502",
   "metadata": {},
   "source": [
    "```js\n",
    "const numList = [1, 2, 3, 4]\n",
    "\n",
    "const squaredList = numList.map(num => num**2)\n",
    "```"
   ]
  },
  {
   "cell_type": "code",
   "execution_count": 23,
   "id": "da0c4fd3-c4ac-4072-b8fb-c7e68b8e1963",
   "metadata": {},
   "outputs": [],
   "source": [
    "list_of_nums = [1, 2, 3, 4]\n",
    "\n",
    "# Using List Comprehension.\n",
    "list_of_squares = [number**2 for number in list_of_nums]\n",
    "\n",
    "# Using Mapping HOF with Lambda.\n",
    "list_of_squares_again = list(map(lambda number: number**2, list_of_nums))"
   ]
  },
  {
   "cell_type": "markdown",
   "id": "3bf820e1-aefa-465a-ac3c-349cbc9d77df",
   "metadata": {},
   "source": [
    "### The `filter()` function"
   ]
  },
  {
   "cell_type": "markdown",
   "id": "7048bedd-52ec-45f2-9589-375c69efeb25",
   "metadata": {},
   "source": [
    "```js\n",
    "const numList = [1, 2, 3, 4]\n",
    "\n",
    "const odds = numList.filter(num => num % 2 !== 0)\n",
    "```"
   ]
  },
  {
   "cell_type": "code",
   "execution_count": 24,
   "id": "4b447ffb-1cf5-4ecb-816a-2f5ee0df4a3f",
   "metadata": {},
   "outputs": [],
   "source": [
    "list_of_nums = [1, 2, 3, 4]\n",
    "\n",
    "# Using List Comprehension.\n",
    "list_of_odds = [number for number in list_of_nums if number % 2 != 0]\n",
    "\n",
    "# Using Filter HOF with Lambda.\n",
    "list_of_odds_again = list(filter(lambda number: number % 2 != 0, list_of_nums))"
   ]
  },
  {
   "cell_type": "markdown",
   "id": "10298261-0c46-4799-b168-301f96e16c46",
   "metadata": {},
   "source": [
    "---\n",
    "---\n",
    "---"
   ]
  }
 ],
 "metadata": {
  "kernelspec": {
   "display_name": "Python 3 (ipykernel)",
   "language": "python",
   "name": "python3"
  },
  "language_info": {
   "codemirror_mode": {
    "name": "ipython",
    "version": 3
   },
   "file_extension": ".py",
   "mimetype": "text/x-python",
   "name": "python",
   "nbconvert_exporter": "python",
   "pygments_lexer": "ipython3",
   "version": "3.9.6"
  }
 },
 "nbformat": 4,
 "nbformat_minor": 5
}
