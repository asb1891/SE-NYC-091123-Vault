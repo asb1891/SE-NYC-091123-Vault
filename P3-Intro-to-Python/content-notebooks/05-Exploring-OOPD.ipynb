{
 "cells": [
  {
   "cell_type": "markdown",
   "id": "f3ecc767-6568-4c51-a742-dceddcb32b2a",
   "metadata": {},
   "source": [
    "---\n",
    "---\n",
    "---"
   ]
  },
  {
   "cell_type": "markdown",
   "id": "f7e8bd0c-3463-4eb0-8887-b487a6bcccd3",
   "metadata": {},
   "source": [
    "# Exploring Object-Oriented Programming Design"
   ]
  },
  {
   "cell_type": "markdown",
   "id": "9d71cdd3-ef1a-4f3e-880e-7b1b09f702ae",
   "metadata": {},
   "source": [
    "## Conceptually Baking \"A PIE\""
   ]
  },
  {
   "cell_type": "markdown",
   "id": "cff6df00-a481-49a0-9805-20083d757ba2",
   "metadata": {},
   "source": [
    "### OOPD: Abstraction"
   ]
  },
  {
   "cell_type": "code",
   "execution_count": 30,
   "id": "7451d454-280b-456e-ae23-2259e8671957",
   "metadata": {},
   "outputs": [],
   "source": [
    "pass"
   ]
  },
  {
   "cell_type": "markdown",
   "id": "c9c32a57-8142-472f-b3c8-3f8f74497f9b",
   "metadata": {},
   "source": [
    "### OOPD: Polymorphism"
   ]
  },
  {
   "cell_type": "code",
   "execution_count": 31,
   "id": "1660e483-3851-409e-9ec6-5c80161a192d",
   "metadata": {},
   "outputs": [],
   "source": [
    "pass"
   ]
  },
  {
   "cell_type": "markdown",
   "id": "0ca734ac-911b-4261-88a7-3f3ccb87c561",
   "metadata": {},
   "source": [
    "### OOPD: Inheritance"
   ]
  },
  {
   "cell_type": "code",
   "execution_count": 32,
   "id": "14ac8138-9376-4153-9aca-aaeea4114467",
   "metadata": {},
   "outputs": [],
   "source": [
    "pass"
   ]
  },
  {
   "cell_type": "markdown",
   "id": "12462e91-92f6-4284-a74a-27ef739cbbfb",
   "metadata": {},
   "source": [
    "### OOPD: Encapsulation"
   ]
  },
  {
   "cell_type": "code",
   "execution_count": 33,
   "id": "8a349bf0-4fb5-47ed-ae82-bcd9cabf23ef",
   "metadata": {},
   "outputs": [],
   "source": [
    "pass"
   ]
  },
  {
   "cell_type": "markdown",
   "id": "0d9b0824-2e5b-4ce0-9901-d32014ab4a78",
   "metadata": {},
   "source": [
    "## Dunder (Magic) Methods"
   ]
  },
  {
   "cell_type": "markdown",
   "id": "36cb72d8-aefa-4c04-8754-70fee1693707",
   "metadata": {},
   "source": [
    "### `__init__()`, the Constructor"
   ]
  },
  {
   "cell_type": "code",
   "execution_count": 1,
   "id": "f0695130-8362-4576-82fc-5135bbff68b4",
   "metadata": {},
   "outputs": [],
   "source": [
    "class MyObject:\n",
    "    def __init__(self):\n",
    "        pass"
   ]
  },
  {
   "cell_type": "markdown",
   "id": "ba32003f-f54f-4ef5-bd08-d3d6754495b5",
   "metadata": {},
   "source": [
    "### `__repr__()`, the Representative"
   ]
  },
  {
   "cell_type": "code",
   "execution_count": 2,
   "id": "0df91630-2249-45dc-bdfd-a7c787b87742",
   "metadata": {},
   "outputs": [],
   "source": [
    "class MyObject:\n",
    "    def __repr__(self):\n",
    "        pass"
   ]
  },
  {
   "cell_type": "markdown",
   "id": "44de0ff8-34b5-4178-acd4-2b3b2216387d",
   "metadata": {},
   "source": [
    "### `__call__()`, the Functional Invoker"
   ]
  },
  {
   "cell_type": "code",
   "execution_count": 3,
   "id": "a1948c37-6d0f-4ac4-a809-56b530c88911",
   "metadata": {},
   "outputs": [],
   "source": [
    "class MyObject:\n",
    "    def __call__(self):\n",
    "        pass"
   ]
  },
  {
   "cell_type": "markdown",
   "id": "7ee8a3b8-d105-47d4-a94e-e8189c6fa6c2",
   "metadata": {},
   "source": [
    "## Properties and Advanced Object Attribution"
   ]
  },
  {
   "cell_type": "markdown",
   "id": "12abbae6-826f-4673-8395-b6c00378fbe4",
   "metadata": {},
   "source": [
    "### The `@property` Decorator"
   ]
  },
  {
   "cell_type": "code",
   "execution_count": 6,
   "id": "0373cd03-5b28-46d4-b9aa-28c6eb023835",
   "metadata": {},
   "outputs": [
    {
     "data": {
      "text/plain": [
       "\u001b[0;31mInit signature:\u001b[0m \u001b[0mproperty\u001b[0m\u001b[0;34m(\u001b[0m\u001b[0mfget\u001b[0m\u001b[0;34m=\u001b[0m\u001b[0;32mNone\u001b[0m\u001b[0;34m,\u001b[0m \u001b[0mfset\u001b[0m\u001b[0;34m=\u001b[0m\u001b[0;32mNone\u001b[0m\u001b[0;34m,\u001b[0m \u001b[0mfdel\u001b[0m\u001b[0;34m=\u001b[0m\u001b[0;32mNone\u001b[0m\u001b[0;34m,\u001b[0m \u001b[0mdoc\u001b[0m\u001b[0;34m=\u001b[0m\u001b[0;32mNone\u001b[0m\u001b[0;34m)\u001b[0m\u001b[0;34m\u001b[0m\u001b[0;34m\u001b[0m\u001b[0m\n",
       "\u001b[0;31mDocstring:\u001b[0m     \n",
       "Property attribute.\n",
       "\n",
       "  fget\n",
       "    function to be used for getting an attribute value\n",
       "  fset\n",
       "    function to be used for setting an attribute value\n",
       "  fdel\n",
       "    function to be used for del'ing an attribute\n",
       "  doc\n",
       "    docstring\n",
       "\n",
       "Typical use is to define a managed attribute x:\n",
       "\n",
       "class C(object):\n",
       "    def getx(self): return self._x\n",
       "    def setx(self, value): self._x = value\n",
       "    def delx(self): del self._x\n",
       "    x = property(getx, setx, delx, \"I'm the 'x' property.\")\n",
       "\n",
       "Decorators make defining new properties or modifying existing ones easy:\n",
       "\n",
       "class C(object):\n",
       "    @property\n",
       "    def x(self):\n",
       "        \"I am the 'x' property.\"\n",
       "        return self._x\n",
       "    @x.setter\n",
       "    def x(self, value):\n",
       "        self._x = value\n",
       "    @x.deleter\n",
       "    def x(self):\n",
       "        del self._x\n",
       "\u001b[0;31mType:\u001b[0m           type\n",
       "\u001b[0;31mSubclasses:\u001b[0m     abstractproperty"
      ]
     },
     "metadata": {},
     "output_type": "display_data"
    }
   ],
   "source": [
    "@property?"
   ]
  },
  {
   "cell_type": "markdown",
   "id": "7d496be3-c240-4c46-801d-c1f9664fbda7",
   "metadata": {},
   "source": [
    "### Getting Properties with `@property`"
   ]
  },
  {
   "cell_type": "code",
   "execution_count": 12,
   "id": "8fffaf2c-a072-47d2-80a5-04d68300d486",
   "metadata": {},
   "outputs": [],
   "source": [
    "class SliceOfPizza:\n",
    "    def __init__(self, price):\n",
    "        self._price = price\n",
    "\n",
    "    @property\n",
    "    def price(self):\n",
    "        return self._price"
   ]
  },
  {
   "cell_type": "markdown",
   "id": "6115dd5c-033b-4cc5-a5ab-0a107574ab68",
   "metadata": {},
   "source": [
    "### Setting Properties with `@{PROPERTY_NAME}.setter`"
   ]
  },
  {
   "cell_type": "code",
   "execution_count": 13,
   "id": "aa2230bd-9586-46fe-a20c-7152a0eda3cb",
   "metadata": {},
   "outputs": [],
   "source": [
    "class SliceOfPizza:\n",
    "    def __init__(self, price):\n",
    "        self._price = price\n",
    "\n",
    "    @property\n",
    "    def price(self):\n",
    "        return self._price\n",
    "\n",
    "    @price.setter\n",
    "    def price(self, new_price):\n",
    "        if new_price >= 0 and isinstance(new_price, float):\n",
    "            self._price = new_price\n",
    "        else:\n",
    "            print(\"Please enter a valid price.\")"
   ]
  },
  {
   "cell_type": "markdown",
   "id": "36a20deb-0447-47ed-afb2-cb08782378bd",
   "metadata": {},
   "source": [
    "### Deleting Properties with `@{PROPERTY_NAME}.deleter`"
   ]
  },
  {
   "cell_type": "code",
   "execution_count": 26,
   "id": "817755c3-ee52-4f76-a735-fae28023ab77",
   "metadata": {},
   "outputs": [],
   "source": [
    "class SliceOfPizza:\n",
    "    def __init__(self, price):\n",
    "        self._price = price\n",
    "\n",
    "    @property\n",
    "    def price(self):\n",
    "        return self._price\n",
    "\n",
    "    @price.setter\n",
    "    def price(self, new_price):\n",
    "        if new_price >= 0 and isinstance(new_price, float):\n",
    "            self._price = new_price\n",
    "        else:\n",
    "            print(\"Please enter a valid price.\")\n",
    "\n",
    "    @price.deleter\n",
    "    def price(self):\n",
    "        del self._price"
   ]
  },
  {
   "cell_type": "code",
   "execution_count": 27,
   "id": "9c66dade-1ebc-4755-be4b-60af7d76906b",
   "metadata": {},
   "outputs": [],
   "source": [
    "cheese = SliceOfPizza(0.99)"
   ]
  },
  {
   "cell_type": "code",
   "execution_count": 28,
   "id": "cc9caba3-cb9f-4ab9-91d1-c5af63854c06",
   "metadata": {},
   "outputs": [
    {
     "data": {
      "text/plain": [
       "0.99"
      ]
     },
     "execution_count": 28,
     "metadata": {},
     "output_type": "execute_result"
    }
   ],
   "source": [
    "cheese.price"
   ]
  },
  {
   "cell_type": "code",
   "execution_count": 29,
   "id": "5b228a9d-b9de-4a7f-a73b-9ac310a0eb46",
   "metadata": {},
   "outputs": [],
   "source": [
    "cheese.price = 1.29"
   ]
  },
  {
   "cell_type": "code",
   "execution_count": 22,
   "id": "5a5f7b3d-b2b6-4877-8d64-d591ed51574a",
   "metadata": {},
   "outputs": [
    {
     "name": "stdout",
     "output_type": "stream",
     "text": [
      "Please enter a valid price.\n"
     ]
    }
   ],
   "source": [
    "cheese.price = -0.49"
   ]
  },
  {
   "cell_type": "code",
   "execution_count": 24,
   "id": "683bdc49-857c-491d-81bc-447867049a94",
   "metadata": {},
   "outputs": [],
   "source": [
    "del cheese.price"
   ]
  },
  {
   "cell_type": "markdown",
   "id": "438e3f39-2641-4696-ad6c-d9c793e71d5b",
   "metadata": {},
   "source": [
    "## Object Interactivity and Management"
   ]
  },
  {
   "cell_type": "markdown",
   "id": "3feaa8d6-fbac-4c6b-90f6-7ec3a15008cc",
   "metadata": {},
   "source": [
    "### Scoping and Handling Multiple Objects"
   ]
  },
  {
   "cell_type": "code",
   "execution_count": 132,
   "id": "89f82d4e-de39-4b73-9b75-6f22cbfefda5",
   "metadata": {},
   "outputs": [],
   "source": [
    "class Pizza:\n",
    "    def __init__(self, name):\n",
    "        self.name = name\n",
    "        self._orders = []\n",
    "        self._customers = []\n",
    "\n",
    "    @property\n",
    "    def name(self):\n",
    "        return self._name\n",
    "\n",
    "    @name.setter\n",
    "    def name(self, name):\n",
    "        NAME_IS_STR = isinstance(name, str)\n",
    "        NAME_EXISTS = (not hasattr(self, \"name\"))\n",
    "        if NAME_IS_STR and NAME_EXISTS:\n",
    "            self._name = name\n",
    "        else:\n",
    "            raise Exception(\"`Pizza.name` already exists!\")\n",
    "\n",
    "    def orders(self, new_order=None):\n",
    "        ORDER_ALREADY_CREATED = (new_order is not None)\n",
    "        ORDER_TYPE_IS_VALID = isinstance(new_order, Order)\n",
    "        if ORDER_ALREADY_CREATED and ORDER_TYPE_IS_VALID:\n",
    "            self._orders.append(new_order)\n",
    "        return self._orders\n",
    "\n",
    "    def customers(self, new_customer=None):\n",
    "        CUSTOMER_IS_UNIQUE = (new_customer not in self._customers)\n",
    "        CUSTOMER_TYPE_IS_VALID = isinstance(new_customer, Customer)\n",
    "        if CUSTOMER_IS_UNIQUE and CUSTOMER_TYPE_IS_VALID:\n",
    "            self._customers.append(new_customer)\n",
    "        return self._customers\n",
    "\n",
    "    def total_orders(self):\n",
    "        return len(self._orders)\n",
    "\n",
    "    def average_price(self):\n",
    "        return round(sum([order.price for order in self._orders]) / self.total_orders(), 2)"
   ]
  },
  {
   "cell_type": "code",
   "execution_count": 133,
   "id": "aa246a37-c921-4c42-97c4-316cb762eb9d",
   "metadata": {},
   "outputs": [],
   "source": [
    "class Customer:\n",
    "    def __init__(self, name):\n",
    "        self.name = name\n",
    "        self._orders = []\n",
    "        self._pizzas = []\n",
    "\n",
    "    @property\n",
    "    def name(self):\n",
    "        return self._name\n",
    "\n",
    "    @name.setter\n",
    "    def name(self, name):\n",
    "        NAME_IS_STR = isinstance(name, str)\n",
    "        NAME_WITHIN_ACCEPTABLE_LENGTH = (1 <= len(name) <= 15)\n",
    "        if NAME_IS_STR and NAME_WITHIN_ACCEPTABLE_LENGTH:\n",
    "            self._name = name\n",
    "        else:\n",
    "            raise Exception(\"Unacceptable data format for `Customer.name`!\")\n",
    "\n",
    "    def orders(self, new_order=None):\n",
    "        ORDER_ALREADY_CREATED = (new_order is not None)\n",
    "        ORDER_TYPE_IS_VALID = isinstance(new_order, Order)\n",
    "        if ORDER_ALREADY_CREATED and ORDER_TYPE_IS_VALID:\n",
    "            self._orders.append(new_order)\n",
    "        return self._orders\n",
    "\n",
    "    def pizzas(self, new_pizza=None):\n",
    "        PIZZA_ALREADY_CREATED = (new_pizza is not None)\n",
    "        PIZZA_TYPE_IS_VALID = isinstance(new_pizza, Pizza)\n",
    "        PIZZA_IS_UNIQUE = (new_pizza not in self._pizzas)\n",
    "        if PIZZA_ALREADY_CREATED and PIZZA_TYPE_IS_VALID and PIZZA_IS_UNIQUE:\n",
    "            self._pizzas.append(new_pizza)\n",
    "        return self._pizzas"
   ]
  },
  {
   "cell_type": "code",
   "execution_count": 139,
   "id": "f721f3ee-796f-4fa7-b85d-be595ef0db69",
   "metadata": {},
   "outputs": [],
   "source": [
    "class Order:\n",
    "    catalog = []\n",
    "\n",
    "    def __init__(self, customer, pizza, price):\n",
    "        self.customer = customer\n",
    "        self.pizza = pizza\n",
    "        self.price = price\n",
    "\n",
    "        Order.catalog.append(self)\n",
    "\n",
    "        pizza.orders(self)\n",
    "        pizza.customers(customer)\n",
    "        \n",
    "        customer.orders(self)\n",
    "        customer.pizzas(pizza)\n",
    "\n",
    "    def __repr__(self):\n",
    "        return f\"{self.customer.name} ordered a {self.pizza.name}.\"\n",
    "\n",
    "    @property\n",
    "    def price(self):\n",
    "        return self._price\n",
    "\n",
    "    @price.setter\n",
    "    def price(self, price):\n",
    "        PRICE_IS_NUMERICAL = (type(price) in (int, float))\n",
    "        PRICE_WITHIN_ACCEPTABLE_RANGE = (0.25 <= price <= 20)\n",
    "        if PRICE_IS_NUMERICAL and PRICE_WITHIN_ACCEPTABLE_RANGE:\n",
    "            self._price = price\n",
    "        else:\n",
    "            raise Exception(\"Unacceptable data format for `Order.price`!\")\n",
    "\n",
    "    @property\n",
    "    def customer(self):\n",
    "        return self._customer\n",
    "\n",
    "    @customer.setter\n",
    "    def customer(self, customer):\n",
    "        CUSTOMER_TYPE_IS_VALID = isinstance(customer, Customer)\n",
    "        if CUSTOMER_TYPE_IS_VALID:\n",
    "            self._customer = customer\n",
    "        else:\n",
    "            raise Exception(\"Unacceptable data type for `Order.customer`!\")\n",
    "\n",
    "    @property\n",
    "    def pizza(self):\n",
    "        return self._pizza\n",
    "\n",
    "    @pizza.setter\n",
    "    def pizza(self, pizza):\n",
    "        PIZZA_TYPE_IS_VALID = isinstance(pizza, Pizza)\n",
    "        if PIZZA_TYPE_IS_VALID:\n",
    "            self._pizza = pizza\n",
    "        else:\n",
    "            raise Exception(\"Unacceptable data type for `Order.pizza`!\")"
   ]
  },
  {
   "cell_type": "code",
   "execution_count": 142,
   "id": "6afc89ba-9fe7-42cc-bc2a-ce9be253cddc",
   "metadata": {},
   "outputs": [],
   "source": [
    "class Pizzeria: \n",
    "    def __call__(self):\n",
    "        print(\"HELLO! :) Let's test and debug!\\n\")\n",
    "\n",
    "        customer1 = Customer(\"Kash\")\n",
    "        customer2 = Customer(\"Sakib\")\n",
    "        customer3 = Customer(\"Chett\")\n",
    "        customer4 = Customer(\"Chelsea\")\n",
    "\n",
    "        pizza1 = Pizza(\"Cheese Slice\")\n",
    "        pizza2 = Pizza(\"Pepperoni Pie\")\n",
    "\n",
    "        Order.catalog = []\n",
    "        order1 = Order(customer1, pizza1, 0.99)\n",
    "        order2 = Order(customer2, pizza1, 1.99)\n",
    "        order3 = Order(customer2, pizza1, 1.79)\n",
    "        order4 = Order(customer3, pizza2, 10.99)\n",
    "        order5 = Order(customer4, pizza2, 11.99)\n",
    "\n",
    "        for order in Order.catalog:\n",
    "            print(f\"\\t>> {order}\")\n",
    "        \n",
    "        print(f\"\\n\\t>> Total Orders for {pizza1.name}: {pizza1.total_orders()}.\")\n",
    "        print(f\"\\t>> Average Price for {pizza1.name}: ${pizza1.average_price()}.\")\n",
    "\n",
    "        print(f\"\\n\\t>> Total Orders for {pizza2.name}: {pizza2.total_orders()}.\")\n",
    "        print(f\"\\t>> Average Price for {pizza2.name}: ${pizza2.average_price()}.\")"
   ]
  },
  {
   "cell_type": "code",
   "execution_count": 143,
   "id": "0bc2afd4-bc00-4cd3-946e-79c7df5f3121",
   "metadata": {},
   "outputs": [
    {
     "name": "stdout",
     "output_type": "stream",
     "text": [
      "HELLO! :) Let's test and debug!\n",
      "\n",
      "\t>> Kash ordered a Cheese Slice.\n",
      "\t>> Sakib ordered a Cheese Slice.\n",
      "\t>> Sakib ordered a Cheese Slice.\n",
      "\t>> Chett ordered a Pepperoni Pie.\n",
      "\t>> Chelsea ordered a Pepperoni Pie.\n",
      "\n",
      "\t>> Total Orders for Cheese Slice: 3.\n",
      "\t>> Average Price for Cheese Slice: $1.59.\n",
      "\n",
      "\t>> Total Orders for Pepperoni Pie: 2.\n",
      "\t>> Average Price for Pepperoni Pie: $11.49.\n"
     ]
    }
   ],
   "source": [
    "pizza_time = Pizzeria()\n",
    "\n",
    "pizza_time()"
   ]
  },
  {
   "cell_type": "markdown",
   "id": "67444fce-e940-4b7b-ae54-847f3104991d",
   "metadata": {},
   "source": [
    "---\n",
    "---\n",
    "---"
   ]
  }
 ],
 "metadata": {
  "kernelspec": {
   "display_name": "Python 3 (ipykernel)",
   "language": "python",
   "name": "python3"
  },
  "language_info": {
   "codemirror_mode": {
    "name": "ipython",
    "version": 3
   },
   "file_extension": ".py",
   "mimetype": "text/x-python",
   "name": "python",
   "nbconvert_exporter": "python",
   "pygments_lexer": "ipython3",
   "version": "3.11.3"
  }
 },
 "nbformat": 4,
 "nbformat_minor": 5
}
