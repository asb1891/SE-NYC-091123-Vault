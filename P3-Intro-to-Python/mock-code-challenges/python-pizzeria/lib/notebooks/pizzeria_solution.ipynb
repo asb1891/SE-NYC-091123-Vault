{
 "cells": [
  {
   "cell_type": "markdown",
   "id": "edc9913b-9380-4044-b069-9fa84780a678",
   "metadata": {},
   "source": [
    "---\n",
    "---\n",
    "---"
   ]
  },
  {
   "cell_type": "markdown",
   "id": "d80e8ffe-fcdd-404b-836e-6e1415878004",
   "metadata": {},
   "source": [
    "# Understanding the Pizzeria Mock Code Challenge"
   ]
  },
  {
   "cell_type": "markdown",
   "id": "e4ed1bab-54e7-4776-ac45-aa643c0fc971",
   "metadata": {},
   "source": [
    "Starting off, we always want to take some time (5-10 minutes) to architect and understand the **object relationships** that are required of us to develop.\n",
    "\n",
    "In this specific case, we're given some important guidelines:\n",
    "- We have three models: `Pizza`, `Customer`, and `Order`\n",
    "- A `Pizza` can have many `Order` instances\n",
    "- A `Customer` can have many `Order` instances\n",
    "- A `Order` instance belongs to an instance of `Customer` and to an instance of `Pizza`\n",
    "- `Pizza` - `Customer` is a many-to-many relationship\n",
    "\n",
    "In other words, we are given that we have two primary models (`Pizza` and `Customer`) that represent our user-facing (top-level) object abstractions while our third model (`Order`) serves as an under-the-hood way to associate the two primary models in our prototype database.\n",
    "\n",
    "It's likely then that `Pizza` and `Customer` are going to be analogously architected (with differences depending more particularly in terms of _how_ they're used from a user level) while `Order` is going to be more intricately engineered to \"tether together\" attributes and methodology between `Pizza` and `Customer`."
   ]
  },
  {
   "cell_type": "markdown",
   "id": "9b998758-2e31-41c1-ada8-549dbf321f17",
   "metadata": {},
   "source": [
    "### Remember to take the time to draw out your object relationships and map out which attributes and methods are needed to architect. \n",
    "\n",
    "**It's one thing to have to swap back and forth to written instructions in a `README.md` file that dictate deliverables – it's another thing to be able to visually see those deliverables on a piece-of-paper next to you.**"
   ]
  },
  {
   "cell_type": "markdown",
   "id": "6d2ff21d-5995-41e1-8411-eb3c5aed0fdd",
   "metadata": {},
   "source": [
    "---\n",
    "---"
   ]
  },
  {
   "cell_type": "markdown",
   "id": "268946de-cfa2-49d6-820a-441ee782ef04",
   "metadata": {},
   "source": [
    "## Initial Object Model States"
   ]
  },
  {
   "cell_type": "code",
   "execution_count": 39,
   "id": "92bb145a-6c66-4546-bdb8-411610a5d6e3",
   "metadata": {},
   "outputs": [],
   "source": [
    "class Pizza:\n",
    "    def __init__(self, name):\n",
    "        self.name = name\n",
    "        \n",
    "    def orders(self, new_order=None):\n",
    "        from classes.order import Order\n",
    "        pass\n",
    "    \n",
    "    def customers(self, new_customer=None):\n",
    "        from classes.customer import Customer\n",
    "        pass\n",
    "    \n",
    "    def num_orders(self):\n",
    "        pass\n",
    "    \n",
    "    def average_price(self):\n",
    "        pass"
   ]
  },
  {
   "cell_type": "code",
   "execution_count": 40,
   "id": "07218428-6347-4887-b803-1401f697f91c",
   "metadata": {},
   "outputs": [],
   "source": [
    "class Customer:\n",
    "    def __init__(self, name):\n",
    "        self.name = name\n",
    "        \n",
    "    def orders(self, new_order=None):\n",
    "        from classes.order import Order\n",
    "        pass\n",
    "    \n",
    "    def pizzas(self, new_pizza=None):\n",
    "        from classes.pizza import Pizza\n",
    "        pass"
   ]
  },
  {
   "cell_type": "code",
   "execution_count": 41,
   "id": "328ddc73-a8db-4b32-9787-532766e8597d",
   "metadata": {},
   "outputs": [],
   "source": [
    "class Order:\n",
    "\n",
    "    def __init__(self, customer, pizza, price):\n",
    "        self.customer = customer\n",
    "        self.pizza = pizza\n",
    "        self.price = price\n",
    "\n",
    "        Order.catalog.append(self)"
   ]
  },
  {
   "cell_type": "markdown",
   "id": "8f5c7bce-3ad7-4228-aa58-bec0321d91ed",
   "metadata": {},
   "source": [
    "---\n",
    "---"
   ]
  },
  {
   "cell_type": "markdown",
   "id": "9dc74ea5-79e2-4be3-b8ac-facb59e633dc",
   "metadata": {},
   "source": [
    "## Defining Initializers and Properties"
   ]
  },
  {
   "cell_type": "markdown",
   "id": "1d221d21-969c-40cc-ba38-4ef20ebd01d9",
   "metadata": {},
   "source": [
    "Before we can tether together our models via logical methods and operationality, we need to make sure that they actually have the ability to track relevant data independently.\n",
    "\n",
    "In other words, we need to construct their attributes and properties upon initialization before adding any fancy methods and connecting them."
   ]
  },
  {
   "cell_type": "markdown",
   "id": "f4369ae3-e64a-4770-8efb-2ffa11f4f977",
   "metadata": {},
   "source": [
    "We have the following deliverable requirements in terms of initializers and properties for our three models:"
   ]
  },
  {
   "cell_type": "markdown",
   "id": "08b3575a-90e2-40be-b460-10cf8da96e7c",
   "metadata": {},
   "source": [
    "---"
   ]
  },
  {
   "cell_type": "markdown",
   "id": "bb0f092e-1b65-4725-a554-ec79f022370d",
   "metadata": {},
   "source": [
    "#### For The `Pizza` Class.\n",
    "\n",
    "**Pizza should be initialized with a name as a string.**\n",
    "\n",
    "```python\n",
    "def __init__(self, name)\n",
    "```\n",
    "\n",
    "**Return the pizza's name as a string using a getter.**\n",
    "\n",
    "```python\n",
    "@property\n",
    "def name(self)\n",
    "```\n",
    "\n",
    "**Validates the pizza's name using a setter.**\n",
    "\n",
    "1. Names must be of type `str`.\n",
    "2. Names should not be able to change after the pizza is created.\n",
    "3. If violations to these validations occur, raise an `Exception`.\n",
    "\n",
    "```python\n",
    "@name.setter\n",
    "def name(self, name)\n",
    "```"
   ]
  },
  {
   "cell_type": "markdown",
   "id": "78642a61-0b8a-4cfe-83bc-0b5a70971860",
   "metadata": {},
   "source": [
    "### Architecting the Object."
   ]
  },
  {
   "cell_type": "code",
   "execution_count": 42,
   "id": "dc9829b5-cc69-4309-85b4-5c0ee6e11e44",
   "metadata": {},
   "outputs": [],
   "source": [
    "class Pizza:\n",
    "    def __init__(self, name):\n",
    "        self._name = name\n",
    "\n",
    "    @property\n",
    "    def name(self):\n",
    "        return self._name\n",
    "\n",
    "    @name.setter\n",
    "    def name(self, name):\n",
    "        NAME_IS_STR = isinstance(name, str)\n",
    "        NAME_EXISTS = (not hasattr(self, \"name\"))\n",
    "        if NAME_IS_STR and NAME_EXISTS:\n",
    "            self._name = name\n",
    "        else:\n",
    "            raise Exception(\"`Pizza.name` already exists!\")\n",
    "        \n",
    "    def orders(self, new_order=None):\n",
    "        from classes.order import Order\n",
    "        pass\n",
    "    \n",
    "    def customers(self, new_customer=None):\n",
    "        from classes.customer import Customer\n",
    "        pass\n",
    "    \n",
    "    def num_orders(self):\n",
    "        pass\n",
    "    \n",
    "    def average_price(self):\n",
    "        pass"
   ]
  },
  {
   "cell_type": "markdown",
   "id": "52488232-bd54-4c27-aa7a-0241c47d99a7",
   "metadata": {},
   "source": [
    "### Testing the Object."
   ]
  },
  {
   "cell_type": "code",
   "execution_count": 43,
   "id": "5a554802-4196-444d-abf9-3c95ef8ef57e",
   "metadata": {},
   "outputs": [
    {
     "ename": "Exception",
     "evalue": "`Pizza.name` already exists!",
     "output_type": "error",
     "traceback": [
      "\u001b[0;31m---------------------------------------------------------------------------\u001b[0m",
      "\u001b[0;31mException\u001b[0m                                 Traceback (most recent call last)",
      "Cell \u001b[0;32mIn[43], line 11\u001b[0m\n\u001b[1;32m      8\u001b[0m \u001b[38;5;28;01massert\u001b[39;00m \u001b[38;5;28misinstance\u001b[39m(pizza\u001b[38;5;241m.\u001b[39mname, \u001b[38;5;28mstr\u001b[39m)\n\u001b[1;32m     10\u001b[0m \u001b[38;5;66;03m# Test that the name property CANNOT be changed with the setter after initialization.\u001b[39;00m\n\u001b[0;32m---> 11\u001b[0m \u001b[43mpizza\u001b[49m\u001b[38;5;241;43m.\u001b[39;49m\u001b[43mname\u001b[49m \u001b[38;5;241m=\u001b[39m \u001b[38;5;124m\"\u001b[39m\u001b[38;5;124mPepperoni\u001b[39m\u001b[38;5;124m\"\u001b[39m\n\u001b[1;32m     12\u001b[0m \u001b[38;5;28;01massert\u001b[39;00m customer\u001b[38;5;241m.\u001b[39mname \u001b[38;5;241m==\u001b[39m \u001b[38;5;124m\"\u001b[39m\u001b[38;5;124mPepperoni\u001b[39m\u001b[38;5;124m\"\u001b[39m\n",
      "Cell \u001b[0;32mIn[42], line 16\u001b[0m, in \u001b[0;36mPizza.name\u001b[0;34m(self, name)\u001b[0m\n\u001b[1;32m     14\u001b[0m     \u001b[38;5;28mself\u001b[39m\u001b[38;5;241m.\u001b[39m_name \u001b[38;5;241m=\u001b[39m name\n\u001b[1;32m     15\u001b[0m \u001b[38;5;28;01melse\u001b[39;00m:\n\u001b[0;32m---> 16\u001b[0m     \u001b[38;5;28;01mraise\u001b[39;00m \u001b[38;5;167;01mException\u001b[39;00m(\u001b[38;5;124m\"\u001b[39m\u001b[38;5;124m`Pizza.name` already exists!\u001b[39m\u001b[38;5;124m\"\u001b[39m)\n",
      "\u001b[0;31mException\u001b[0m: `Pizza.name` already exists!"
     ]
    }
   ],
   "source": [
    "# Create an instance of Pizza.\n",
    "pizza = Pizza(\"Cheese\")\n",
    "\n",
    "# Test that the name property can be created with the getter.\n",
    "assert pizza.name == \"Cheese\"\n",
    "\n",
    "# Test that the name property is appropriately validated.\n",
    "assert isinstance(pizza.name, str)\n",
    "\n",
    "# Test that the name property CANNOT be changed with the setter after initialization.\n",
    "pizza.name = \"Pepperoni\"\n",
    "assert customer.name == \"Pepperoni\""
   ]
  },
  {
   "cell_type": "markdown",
   "id": "7c316c94-24e0-48d0-978a-f5ac58a829cd",
   "metadata": {},
   "source": [
    "---"
   ]
  },
  {
   "cell_type": "markdown",
   "id": "6b25e70c-e93f-49e8-b9aa-7760490115a9",
   "metadata": {},
   "source": [
    "#### For The `Customer` Class.\n",
    "\n",
    "**Customer should be initialized with a name as a string.**\n",
    "\n",
    "```python\n",
    "\n",
    "def __init__(self, name)\n",
    "```\n",
    "\n",
    "**Return the customer's name as a string using a getter.**\n",
    "\n",
    "```python\n",
    "@property\n",
    "def name(self)\n",
    "```\n",
    "    \n",
    "**Validates the customer's name using a setter.**\n",
    "\n",
    "1. Names must be of type `str`.\n",
    "2. Names must be at least 1 character and at most 15 characters long.\n",
    "3. If violations to these validations occur, raise an `Exception`.\n",
    "\n",
    "```python\n",
    "@name.setter\n",
    "def name(self, name)\n",
    "```"
   ]
  },
  {
   "cell_type": "markdown",
   "id": "8bacb7bb-8466-417a-bf72-83681fa05ed2",
   "metadata": {},
   "source": [
    "### Architecting the Object."
   ]
  },
  {
   "cell_type": "code",
   "execution_count": 44,
   "id": "99364948-eaf1-497d-8733-4dd5e8c60588",
   "metadata": {},
   "outputs": [],
   "source": [
    "class Customer:\n",
    "    def __init__(self, name):\n",
    "        self._name = name\n",
    "\n",
    "    @property\n",
    "    def name(self):\n",
    "        return self._name\n",
    "\n",
    "    @name.setter\n",
    "    def name(self, name):\n",
    "        NAME_IS_STR = isinstance(name, str)\n",
    "        NAME_WITHIN_ACCEPTABLE_LENGTH = (1 <= len(name) <= 15)\n",
    "        if NAME_IS_STR and NAME_WITHIN_ACCEPTABLE_LENGTH:\n",
    "            self._name = name\n",
    "        else:\n",
    "            raise Exception(\"Unacceptable data format for `Customer.name`!\")\n",
    "\n",
    "    def orders(self, new_order=None):\n",
    "        from classes.order import Order\n",
    "        pass\n",
    "    \n",
    "    def pizzas(self, new_pizza=None):\n",
    "        from classes.pizza import Pizza\n",
    "        pass"
   ]
  },
  {
   "cell_type": "markdown",
   "id": "c2225ee8-490a-4e20-99fc-b5843a82e6a3",
   "metadata": {},
   "source": [
    "### Testing My Object."
   ]
  },
  {
   "cell_type": "code",
   "execution_count": 45,
   "id": "2240a2ab-0239-4e76-8325-56dd75d84346",
   "metadata": {},
   "outputs": [],
   "source": [
    "customer = Customer(\"Kash\")\n",
    "\n",
    "# Test that the name property can be created with the getter.\n",
    "assert customer.name == \"Kash\"\n",
    "\n",
    "# Test that the name property can be changed with the setter.\n",
    "customer.name = \"Krash\"\n",
    "assert customer.name == \"Krash\"\n",
    "\n",
    "# Test that the name property is appropriately validated.\n",
    "assert isinstance(customer.name, str)\n",
    "assert 1 <= len(customer.name) <= 15"
   ]
  },
  {
   "cell_type": "markdown",
   "id": "2cb5e44e-e2d8-400e-8eed-d7bf0b122e66",
   "metadata": {},
   "source": [
    "---"
   ]
  },
  {
   "cell_type": "markdown",
   "id": "633342f5-cfab-4369-85e7-51b170fb708c",
   "metadata": {},
   "source": [
    "#### For The `Order` Class.\n",
    "\n",
    "**Order should be initialized with a customer, a pizza, and a price.**\n",
    "\n",
    "1. The customer parameter should be an instance of `Customer`.\n",
    "2. The pizza parameter should be an instance of `Pizza`.\n",
    "3. The price parameter should be a number.\n",
    "\n",
    "```python\n",
    "def __init__(self, customer, pizza, price)\n",
    "```\n",
    "\n",
    "**Returns the price for an order as a number using a getter.**\n",
    "\n",
    "```python\n",
    "@property\n",
    "def price(self)\n",
    "```\n",
    "\n",
    "**Validates the order's price using a setter.**\n",
    "\n",
    "1. Price must be of type `int` or `float`.\n",
    "2. Price must be at least `1` and no greater than `10`.\n",
    "3. If violations to these validations occur, raise an `Exception`.\n",
    "\n",
    "```python\n",
    "@price.setter\n",
    "def price(self, price)\n",
    "```\n",
    "\n",
    "**Returns the customer for an order as an object instance using a getter.**\n",
    "\n",
    "```python\n",
    "@property\n",
    "def customer(self)\n",
    "```\n",
    "\n",
    "**Validates the order's customer using a setter.**\n",
    "\n",
    "1. The customer argument must be of type `Customer`.\n",
    "2. If violations to this validation occur, raise an `Exception`.\n",
    "\n",
    "```python\n",
    "@customer.setter\n",
    "def customer(self, customer)\n",
    "```\n",
    "\n",
    "**Returns the pizza for an order as an object instance using a getter.**\n",
    "\n",
    "```python\n",
    "@property\n",
    "def pizza(self)\n",
    "```\n",
    "\n",
    "**Validates the order's pizza using a setter.**\n",
    "\n",
    "1. The pizza argument must be of type `Pizza`.\n",
    "2. If violations to this validation occur, raise an `Exception`.\n",
    "\n",
    "```python\n",
    "@coffee.setter\n",
    "def pizza(self, pizza)\n",
    "```"
   ]
  },
  {
   "cell_type": "markdown",
   "id": "5bc76ec6-b29c-4095-9682-e93d51379f58",
   "metadata": {},
   "source": [
    "### Architecting the Object."
   ]
  },
  {
   "cell_type": "code",
   "execution_count": 46,
   "id": "d6afc4ab-e377-428e-97bb-24a52429a97f",
   "metadata": {},
   "outputs": [],
   "source": [
    "class Order:\n",
    "    catalog = []\n",
    "    def __init__(self, customer, pizza, price):\n",
    "        self._customer = customer\n",
    "        self._pizza = pizza\n",
    "        self._price = price\n",
    "\n",
    "        Order.catalog.append(self)\n",
    "\n",
    "    def __repr__(self):\n",
    "        return f\"{self.customer.name} ordered a {self.pizza.name}.\"\n",
    "\n",
    "    @property\n",
    "    def price(self):\n",
    "        return self._price\n",
    "\n",
    "    @price.setter\n",
    "    def price(self, price):\n",
    "        PRICE_IS_NUMERICAL = (type(price) in (int, float))\n",
    "        PRICE_WITHIN_ACCEPTABLE_RANGE = (0.25 <= price <= 20)\n",
    "        if PRICE_IS_NUMERICAL and PRICE_WITHIN_ACCEPTABLE_RANGE:\n",
    "            self._price = price\n",
    "        else:\n",
    "            raise Exception(\"Unacceptable data format for `Order.price`!\")\n",
    "\n",
    "    @property\n",
    "    def customer(self):\n",
    "        return self._customer\n",
    "\n",
    "    @customer.setter\n",
    "    def customer(self, customer):\n",
    "        CUSTOMER_TYPE_IS_VALID = isinstance(customer, Customer)\n",
    "        if CUSTOMER_TYPE_IS_VALID:\n",
    "            self._customer = customer\n",
    "        else:\n",
    "            raise Exception(\"Unacceptable data type for `Order.customer`!\")\n",
    "\n",
    "    @property\n",
    "    def pizza(self):\n",
    "        return self._pizza\n",
    "\n",
    "    @pizza.setter\n",
    "    def pizza(self, pizza):\n",
    "        PIZZA_TYPE_IS_VALID = isinstance(pizza, Pizza)\n",
    "        if PIZZA_TYPE_IS_VALID:\n",
    "            self._pizza = pizza\n",
    "        else:\n",
    "            raise Exception(\"Unacceptable data type for `Order.pizza`!\")"
   ]
  },
  {
   "cell_type": "markdown",
   "id": "15a3056c-f782-4398-8bde-eaeeeec87a27",
   "metadata": {},
   "source": [
    "### Testing the Object."
   ]
  },
  {
   "cell_type": "code",
   "execution_count": 47,
   "id": "00c2e804-7a22-4c4e-909c-e8be716cae1d",
   "metadata": {},
   "outputs": [],
   "source": [
    "pizza_1 = Pizza(\"Cheese\")\n",
    "pizza_2 = Pizza(\"Pepperoni\")\n",
    "customer = Customer(\"Kash\")\n",
    "order_1 = Order(customer, pizza_1, 1.49)\n",
    "order_2 = Order(customer, pizza_2, 1.99)\n",
    "\n",
    "# Test that each order has a price (and the right price).\n",
    "assert order_1.price == 1.49\n",
    "assert order_2.price == 1.99\n",
    "\n",
    "# Test that each order has a customer (and the right customer).\n",
    "assert order_1.customer == customer\n",
    "assert order_2.customer == customer\n",
    "\n",
    "# Test that each order has a pizza (and the right pizza).\n",
    "assert order_1.pizza == pizza_1\n",
    "assert order_2.pizza == pizza_2"
   ]
  },
  {
   "cell_type": "markdown",
   "id": "2a2d61be-5dec-45cc-9e55-b81c5514152f",
   "metadata": {},
   "source": [
    "---\n",
    "---"
   ]
  },
  {
   "cell_type": "markdown",
   "id": "4e03d70b-fa5a-40b6-8b33-6b89f0819731",
   "metadata": {},
   "source": [
    "## Object Relational Methods"
   ]
  },
  {
   "cell_type": "markdown",
   "id": "672762ae-69d5-45a7-a1c2-6675051d68cc",
   "metadata": {},
   "source": [
    "Now that our object models are defined and set up with relevant managed attributes (properties), we can start introducing interactivity between our models to emulate how a database architecture for our pretend pizzeria would work!"
   ]
  },
  {
   "cell_type": "markdown",
   "id": "b4988ea1-ed40-48fa-9477-0bad05758706",
   "metadata": {},
   "source": [
    "---"
   ]
  },
  {
   "cell_type": "markdown",
   "id": "cbd9d1c8-5b68-49b2-9ab6-246c148c89ea",
   "metadata": {},
   "source": [
    "#### For The `Pizza` Class.\n",
    "\n",
    "**This should add a new order to our instance of `Pizza`.**\n",
    "\n",
    "1. Adds the new order to `Pizza().orders`.\n",
    "2. Returns a list of all orders for that pizza.\n",
    "3. Each order must be of type `Order`.\n",
    "4. This function will be executed from `Order.__init__`.\n",
    "\n",
    "```python\n",
    "def orders(new_order=None)\n",
    "```\n",
    "\n",
    "**This should add a new customer to our instance of `Pizza`.**\n",
    "\n",
    "1. Adds the new customer to `Pizza().customers`.\n",
    "2. Returns a list of all **unique** customers who have ordered a particular pizza. (In other words, the list will not contain the same customer more than once).\n",
    "3. Each customer must be of type `Customer`.\n",
    "4. This function will be executed from `Order.__init__`.\n",
    "\n",
    "```python\n",
    "def customers(new_customer=None)\n",
    "```"
   ]
  },
  {
   "cell_type": "code",
   "execution_count": 48,
   "id": "42fcfe4c-9014-4b24-a8dd-5396487e40da",
   "metadata": {},
   "outputs": [],
   "source": [
    "class Pizza:\n",
    "    def __init__(self, name):\n",
    "        self._name = name\n",
    "        self._orders = []\n",
    "        self._customers = []\n",
    "\n",
    "    @property\n",
    "    def name(self):\n",
    "        return self._name\n",
    "\n",
    "    @name.setter\n",
    "    def name(self, name):\n",
    "        NAME_IS_STR = isinstance(name, str)\n",
    "        NAME_EXISTS = (not hasattr(self, \"name\"))\n",
    "        if NAME_IS_STR and NAME_EXISTS:\n",
    "            self._name = name\n",
    "        else:\n",
    "            raise Exception(\"`Pizza.name` already exists!\")\n",
    "\n",
    "    def orders(self, new_order=None):\n",
    "        ORDER_ALREADY_CREATED = (new_order is not None)\n",
    "        ORDER_TYPE_IS_VALID = isinstance(new_order, Order)\n",
    "        if ORDER_ALREADY_CREATED and ORDER_TYPE_IS_VALID:\n",
    "            self._orders.append(new_order)\n",
    "        return self._orders\n",
    "\n",
    "    def customers(self, new_customer=None):\n",
    "        CUSTOMER_IS_UNIQUE = (new_customer not in self._customers)\n",
    "        CUSTOMER_TYPE_IS_VALID = isinstance(new_customer, Customer)\n",
    "        if CUSTOMER_IS_UNIQUE and CUSTOMER_TYPE_IS_VALID:\n",
    "            self._customers.append(new_customer)\n",
    "        return self._customers\n",
    "\n",
    "    def num_orders(self):\n",
    "        pass\n",
    "    \n",
    "    def average_price(self):\n",
    "        pass"
   ]
  },
  {
   "cell_type": "markdown",
   "id": "1ef11278-166b-4ee8-8566-f5c516416d85",
   "metadata": {},
   "source": [
    "---"
   ]
  },
  {
   "cell_type": "markdown",
   "id": "775a4e81-dbc9-499e-8f9b-c88c1d89f85b",
   "metadata": {},
   "source": [
    "#### For The `Customer` Class.\n",
    "\n",
    "**This should add a new order to our instance of `Customer`.**\n",
    "\n",
    "1. Adds the new order to `Customer().orders`.\n",
    "2. Returns a list of all orders for that customer.\n",
    "3. Each order must be of type `Order`.\n",
    "4. This function will be executed from `Order.__init__`.\n",
    "\n",
    "```python\n",
    "def orders(new_order=None)\n",
    "```\n",
    "\n",
    "**This should add a new pizza to our instance of `Customer`.**\n",
    "\n",
    "1. Adds the new pizza to `Customer().pizzas`.\n",
    "2. Returns a list of all **unique** pizzas that a customer has ordered. (In other words, the list will not contain the same pizza more than once).\n",
    "3. Each pizza must be of type `Pizza`.\n",
    "4. This function will be executed from `Order.__init__`.\n",
    "\n",
    "```python\n",
    "def pizzas(new_pizza=None)\n",
    "```"
   ]
  },
  {
   "cell_type": "code",
   "execution_count": 49,
   "id": "f658d0ea-2e8e-4ef4-99c7-c796a62d17b5",
   "metadata": {},
   "outputs": [],
   "source": [
    "class Customer:\n",
    "    def __init__(self, name):\n",
    "        self._name = name\n",
    "        self._orders = []\n",
    "        self._pizzas = []\n",
    "\n",
    "    @property\n",
    "    def name(self):\n",
    "        return self._name\n",
    "\n",
    "    @name.setter\n",
    "    def name(self, name):\n",
    "        NAME_IS_STR = isinstance(name, str)\n",
    "        NAME_WITHIN_ACCEPTABLE_LENGTH = (1 <= len(name) <= 15)\n",
    "        if NAME_IS_STR and NAME_WITHIN_ACCEPTABLE_LENGTH:\n",
    "            self._name = name\n",
    "        else:\n",
    "            raise Exception(\"Unacceptable data format for `Customer.name`!\")\n",
    "\n",
    "    def orders(self, new_order=None):\n",
    "        ORDER_ALREADY_CREATED = (new_order is not None)\n",
    "        ORDER_TYPE_IS_VALID = isinstance(new_order, Order)\n",
    "        if ORDER_ALREADY_CREATED and ORDER_TYPE_IS_VALID:\n",
    "            self._orders.append(new_order)\n",
    "        return self._orders\n",
    "\n",
    "    def pizzas(self, new_pizza=None):\n",
    "        PIZZA_ALREADY_CREATED = (new_pizza is not None)\n",
    "        PIZZA_TYPE_IS_VALID = isinstance(new_pizza, Pizza)\n",
    "        PIZZA_IS_UNIQUE = (new_pizza not in self._pizzas)\n",
    "        if PIZZA_ALREADY_CREATED and PIZZA_TYPE_IS_VALID and PIZZA_IS_UNIQUE:\n",
    "            self._pizzas.append(new_pizza)\n",
    "        return self._pizzas"
   ]
  },
  {
   "cell_type": "markdown",
   "id": "733cd579-1d56-41d2-8006-555eaa85adb7",
   "metadata": {},
   "source": [
    "---\n",
    "---"
   ]
  },
  {
   "cell_type": "markdown",
   "id": "f1a8a7fb-5d87-41d6-9008-6eb01d0550e6",
   "metadata": {},
   "source": [
    "## Aggregate and Association Methods"
   ]
  },
  {
   "cell_type": "markdown",
   "id": "104649c2-3b65-47b9-bfa7-0bc92557c171",
   "metadata": {},
   "source": [
    "The last piece of our puzzle is creating \"aggregate and association methods\" that actually express user-oriented operations that can perform calculations and logic across multiple objects at once.\n",
    "\n",
    "In this case, these methods are primarily focused on our `Pizza` class and entail two primary operations:\n",
    "- Get the **number of orders** for a particular pizza.\n",
    "- Get the **average price** of a particular pizza."
   ]
  },
  {
   "cell_type": "markdown",
   "id": "7f5a4f7f-42a5-4f8c-b0f1-0b8b625c5e32",
   "metadata": {},
   "source": [
    "#### For The `Order` Class.\n",
    "\n",
    "**Returns the total number of times that a pizza has been ordered.**\n",
    "\n",
    "```python\n",
    "def num_orders()\n",
    "```\n",
    "\n",
    "**Returns the average price for a pizza based on its orders.**\n",
    "\n",
    "1. You can calculate the average by adding up all of its orders' prices and dividing by total number of orders.\n",
    "\n",
    "```python\n",
    "def average_price()\n",
    "```"
   ]
  },
  {
   "cell_type": "code",
   "execution_count": 50,
   "id": "6c93f5d6-f049-4ccb-9c4f-05a89a68c830",
   "metadata": {},
   "outputs": [],
   "source": [
    "class Order:\n",
    "    catalog = []\n",
    "\n",
    "    def __init__(self, customer, pizza, price):\n",
    "        self._customer = customer\n",
    "        self._pizza = pizza\n",
    "        self._price = price\n",
    "\n",
    "        Order.catalog.append(self)\n",
    "\n",
    "        pizza.orders(self)\n",
    "        pizza.customers(customer)\n",
    "        \n",
    "        customer.orders(self)\n",
    "        customer.pizzas(pizza)\n",
    "\n",
    "    def __repr__(self):\n",
    "        return f\"{self.customer.name} ordered a {self.pizza.name}.\"\n",
    "\n",
    "    @property\n",
    "    def price(self):\n",
    "        return self._price\n",
    "\n",
    "    @price.setter\n",
    "    def price(self, price):\n",
    "        PRICE_IS_NUMERICAL = (type(price) in (int, float))\n",
    "        PRICE_WITHIN_ACCEPTABLE_RANGE = (0.25 <= price <= 20)\n",
    "        if PRICE_IS_NUMERICAL and PRICE_WITHIN_ACCEPTABLE_RANGE:\n",
    "            self._price = price\n",
    "        else:\n",
    "            raise Exception(\"Unacceptable data format for `Order.price`!\")\n",
    "\n",
    "    @property\n",
    "    def customer(self):\n",
    "        return self._customer\n",
    "\n",
    "    @customer.setter\n",
    "    def customer(self, customer):\n",
    "        CUSTOMER_TYPE_IS_VALID = isinstance(customer, Customer)\n",
    "        if CUSTOMER_TYPE_IS_VALID:\n",
    "            self._customer = customer\n",
    "        else:\n",
    "            raise Exception(\"Unacceptable data type for `Order.customer`!\")\n",
    "\n",
    "    @property\n",
    "    def pizza(self):\n",
    "        return self._pizza\n",
    "\n",
    "    @pizza.setter\n",
    "    def pizza(self, pizza):\n",
    "        PIZZA_TYPE_IS_VALID = isinstance(pizza, Pizza)\n",
    "        if PIZZA_TYPE_IS_VALID:\n",
    "            self._pizza = pizza\n",
    "        else:\n",
    "            raise Exception(\"Unacceptable data type for `Order.pizza`!\")"
   ]
  },
  {
   "cell_type": "markdown",
   "id": "2536a3d6-0c8f-463e-a593-ace8eaa382f6",
   "metadata": {},
   "source": [
    "---\n",
    "---"
   ]
  },
  {
   "cell_type": "markdown",
   "id": "de6a1b3e-a5bc-43aa-8608-7fc142f86687",
   "metadata": {},
   "source": [
    "## Final Deliverable Models"
   ]
  },
  {
   "cell_type": "code",
   "execution_count": 51,
   "id": "af714776-4b7f-465b-a4c8-e0dd8884fa65",
   "metadata": {},
   "outputs": [],
   "source": [
    "class Pizza:\n",
    "    def __init__(self, name):\n",
    "        self._name = name\n",
    "        self._orders = []\n",
    "        self._customers = []\n",
    "\n",
    "    @property\n",
    "    def name(self):\n",
    "        return self._name\n",
    "\n",
    "    @name.setter\n",
    "    def name(self, name):\n",
    "        NAME_IS_STR = isinstance(name, str)\n",
    "        NAME_EXISTS = (not hasattr(self, \"name\"))\n",
    "        if NAME_IS_STR and NAME_EXISTS:\n",
    "            self._name = name\n",
    "        else:\n",
    "            raise Exception(\"`Pizza.name` already exists!\")\n",
    "\n",
    "    def orders(self, new_order=None):\n",
    "        ORDER_ALREADY_CREATED = (new_order is not None)\n",
    "        ORDER_TYPE_IS_VALID = isinstance(new_order, Order)\n",
    "        if ORDER_ALREADY_CREATED and ORDER_TYPE_IS_VALID:\n",
    "            self._orders.append(new_order)\n",
    "        return self._orders\n",
    "\n",
    "    def customers(self, new_customer=None):\n",
    "        CUSTOMER_IS_UNIQUE = (new_customer not in self._customers)\n",
    "        CUSTOMER_TYPE_IS_VALID = isinstance(new_customer, Customer)\n",
    "        if CUSTOMER_IS_UNIQUE and CUSTOMER_TYPE_IS_VALID:\n",
    "            self._customers.append(new_customer)\n",
    "        return self._customers\n",
    "\n",
    "    def total_orders(self):\n",
    "        return len(self._orders)\n",
    "\n",
    "    def average_price(self):\n",
    "        return round(sum([order.price for order in self._orders]) / self.total_orders(), 2)"
   ]
  },
  {
   "cell_type": "code",
   "execution_count": 52,
   "id": "e76d8129-c652-44ea-ac9f-52146515a366",
   "metadata": {},
   "outputs": [],
   "source": [
    "class Customer:\n",
    "    def __init__(self, name):\n",
    "        self._name = name\n",
    "        self._orders = []\n",
    "        self._pizzas = []\n",
    "\n",
    "    @property\n",
    "    def name(self):\n",
    "        return self._name\n",
    "\n",
    "    @name.setter\n",
    "    def name(self, name):\n",
    "        NAME_IS_STR = isinstance(name, str)\n",
    "        NAME_WITHIN_ACCEPTABLE_LENGTH = (1 <= len(name) <= 15)\n",
    "        if NAME_IS_STR and NAME_WITHIN_ACCEPTABLE_LENGTH:\n",
    "            self._name = name\n",
    "        else:\n",
    "            raise Exception(\"Unacceptable data format for `Customer.name`!\")\n",
    "\n",
    "    def orders(self, new_order=None):\n",
    "        ORDER_ALREADY_CREATED = (new_order is not None)\n",
    "        ORDER_TYPE_IS_VALID = isinstance(new_order, Order)\n",
    "        if ORDER_ALREADY_CREATED and ORDER_TYPE_IS_VALID:\n",
    "            self._orders.append(new_order)\n",
    "        return self._orders\n",
    "\n",
    "    def pizzas(self, new_pizza=None):\n",
    "        PIZZA_ALREADY_CREATED = (new_pizza is not None)\n",
    "        PIZZA_TYPE_IS_VALID = isinstance(new_pizza, Pizza)\n",
    "        PIZZA_IS_UNIQUE = (new_pizza not in self._pizzas)\n",
    "        if PIZZA_ALREADY_CREATED and PIZZA_TYPE_IS_VALID and PIZZA_IS_UNIQUE:\n",
    "            self._pizzas.append(new_pizza)\n",
    "        return self._pizzas"
   ]
  },
  {
   "cell_type": "code",
   "execution_count": 53,
   "id": "fab87d82-3b36-4aa8-91fa-bd1447841f5f",
   "metadata": {},
   "outputs": [],
   "source": [
    "class Order:\n",
    "    catalog = []\n",
    "\n",
    "    def __init__(self, customer, pizza, price):\n",
    "        self._customer = customer\n",
    "        self._pizza = pizza\n",
    "        self._price = price\n",
    "\n",
    "        Order.catalog.append(self)\n",
    "\n",
    "        pizza.orders(self)\n",
    "        pizza.customers(customer)\n",
    "        \n",
    "        customer.orders(self)\n",
    "        customer.pizzas(pizza)\n",
    "\n",
    "    def __repr__(self):\n",
    "        return f\"{self.customer.name} ordered a {self.pizza.name}.\"\n",
    "\n",
    "    @property\n",
    "    def price(self):\n",
    "        return self._price\n",
    "\n",
    "    @price.setter\n",
    "    def price(self, price):\n",
    "        PRICE_IS_NUMERICAL = (type(price) in (int, float))\n",
    "        PRICE_WITHIN_ACCEPTABLE_RANGE = (0.25 <= price <= 20)\n",
    "        if PRICE_IS_NUMERICAL and PRICE_WITHIN_ACCEPTABLE_RANGE:\n",
    "            self._price = price\n",
    "        else:\n",
    "            raise Exception(\"Unacceptable data format for `Order.price`!\")\n",
    "\n",
    "    @property\n",
    "    def customer(self):\n",
    "        return self._customer\n",
    "\n",
    "    @customer.setter\n",
    "    def customer(self, customer):\n",
    "        CUSTOMER_TYPE_IS_VALID = isinstance(customer, Customer)\n",
    "        if CUSTOMER_TYPE_IS_VALID:\n",
    "            self._customer = customer\n",
    "        else:\n",
    "            raise Exception(\"Unacceptable data type for `Order.customer`!\")\n",
    "\n",
    "    @property\n",
    "    def pizza(self):\n",
    "        return self._pizza\n",
    "\n",
    "    @pizza.setter\n",
    "    def pizza(self, pizza):\n",
    "        PIZZA_TYPE_IS_VALID = isinstance(pizza, Pizza)\n",
    "        if PIZZA_TYPE_IS_VALID:\n",
    "            self._pizza = pizza\n",
    "        else:\n",
    "            raise Exception(\"Unacceptable data type for `Order.pizza`!\")"
   ]
  },
  {
   "cell_type": "markdown",
   "id": "bc2b027f-708b-46e0-9d1d-cec4564140a1",
   "metadata": {},
   "source": [
    "---\n",
    "---\n",
    "---"
   ]
  }
 ],
 "metadata": {
  "kernelspec": {
   "display_name": "Python 3 (ipykernel)",
   "language": "python",
   "name": "python3"
  },
  "language_info": {
   "codemirror_mode": {
    "name": "ipython",
    "version": 3
   },
   "file_extension": ".py",
   "mimetype": "text/x-python",
   "name": "python",
   "nbconvert_exporter": "python",
   "pygments_lexer": "ipython3",
   "version": "3.11.3"
  }
 },
 "nbformat": 4,
 "nbformat_minor": 5
}
